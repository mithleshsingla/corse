{
 "cells": [
  {
   "cell_type": "markdown",
   "id": "de1881e6-e402-41f3-b5aa-ce714e95216a",
   "metadata": {},
   "source": [
    "# 1. List Operations and Basic Statistics:"
   ]
  },
  {
   "cell_type": "markdown",
   "id": "373a80a8-fb26-4237-8433-c5b0693d86d0",
   "metadata": {},
   "source": [
    "Create a list of the first 20 natural numbers."
   ]
  },
  {
   "cell_type": "code",
   "execution_count": 4,
   "id": "0ff22d8d-739e-4efb-b19e-4cc73e85efd9",
   "metadata": {},
   "outputs": [
    {
     "name": "stdout",
     "output_type": "stream",
     "text": [
      "[1, 2, 3, 4, 5, 6, 7, 8, 9, 10, 11, 12, 13, 14, 15, 16, 17, 18, 19, 20]\n"
     ]
    }
   ],
   "source": [
    "l=[]\n",
    "for i in range(1,21):\n",
    "    l.append(i)\n",
    "print(l)    "
   ]
  },
  {
   "cell_type": "markdown",
   "id": "542df488-37f1-48d7-9e7a-847d254ba987",
   "metadata": {},
   "source": [
    "Compute the sum of all even numbers in the list."
   ]
  },
  {
   "cell_type": "code",
   "execution_count": 7,
   "id": "1b13b1c5-59bd-4fd1-b4c3-175f93c9ef7e",
   "metadata": {},
   "outputs": [
    {
     "name": "stdout",
     "output_type": "stream",
     "text": [
      "110\n"
     ]
    }
   ],
   "source": [
    "s=0\n",
    "for n in l:\n",
    "    if n%2==0:\n",
    "        s=s+n\n",
    "print(s)        "
   ]
  },
  {
   "cell_type": "markdown",
   "id": "0fa3496c-8211-49f1-8dd4-441009696f30",
   "metadata": {},
   "source": [
    "Compute the product of all odd numbers in the list.\n"
   ]
  },
  {
   "cell_type": "code",
   "execution_count": 10,
   "id": "05a5dc94-b551-430e-be4d-debbed934e3e",
   "metadata": {},
   "outputs": [
    {
     "name": "stdout",
     "output_type": "stream",
     "text": [
      "654729075\n"
     ]
    }
   ],
   "source": [
    "p=1\n",
    "for n in l:\n",
    "    if n%2!=0:\n",
    "        p=p*n\n",
    "print(p)"
   ]
  },
  {
   "cell_type": "markdown",
   "id": "0e7f7292-4fe7-4440-8b1c-eddf9069f149",
   "metadata": {},
   "source": [
    "Calculate the mean, median, and standard deviation of the list."
   ]
  },
  {
   "cell_type": "code",
   "execution_count": 37,
   "id": "59454449-e700-4ee7-9b7d-25e74a0176ee",
   "metadata": {},
   "outputs": [
    {
     "name": "stdout",
     "output_type": "stream",
     "text": [
      "Mean: 10.5\n"
     ]
    }
   ],
   "source": [
    "ts=sum(l)\n",
    "mean=ts/20\n",
    "print(f\"Mean: {mean}\")"
   ]
  },
  {
   "cell_type": "code",
   "execution_count": 33,
   "id": "6e6502ef-b7fc-42d8-8d0d-cc49af438435",
   "metadata": {},
   "outputs": [
    {
     "name": "stdout",
     "output_type": "stream",
     "text": [
      "Meadian: 21\n"
     ]
    }
   ],
   "source": [
    "md=l[9]+l[10]\n",
    "print(f\"Meadian: {md}\")"
   ]
  },
  {
   "cell_type": "code",
   "execution_count": 43,
   "id": "1939e6db-7af5-4c43-836c-05d950585730",
   "metadata": {},
   "outputs": [
    {
     "name": "stdout",
     "output_type": "stream",
     "text": [
      "standard deviation: 5.766281297335398\n"
     ]
    }
   ],
   "source": [
    "v=0\n",
    "for n in l:\n",
    "    v=v+(n-mean)**2\n",
    "sd=(v/20)**(1/2)\n",
    "print(f\"standard deviation: {sd}\")"
   ]
  },
  {
   "cell_type": "markdown",
   "id": "d0aade60-4911-4b74-96fd-280885d63dde",
   "metadata": {},
   "source": [
    "# 2. Mutable vs. Immutable Data Types:"
   ]
  },
  {
   "cell_type": "markdown",
   "id": "f10c4822-d45e-4af2-88e7-8dd13b7639eb",
   "metadata": {},
   "source": [
    "Explain the difference between mutable and immutable data types in Python. Provide examples of each"
   ]
  },
  {
   "cell_type": "markdown",
   "id": "ee835e63-678a-440f-b463-6e9914783b4c",
   "metadata": {},
   "source": [
    "**Ans**"
   ]
  },
  {
   "cell_type": "markdown",
   "id": "0f048a42-6b54-4d1c-8ae5-f6f6c5e41564",
   "metadata": {},
   "source": [
    "**Immutable Data Types** : An immutable data type is one whose state or value cannot be changed after it is created. Any modification to an immutable object will create a new object rather than modifying the original one."
   ]
  },
  {
   "cell_type": "code",
   "execution_count": 56,
   "id": "10d71e3b-06ee-4a4e-945b-bcefabbfbcf7",
   "metadata": {},
   "outputs": [
    {
     "name": "stdout",
     "output_type": "stream",
     "text": [
      "Hello\n",
      "False\n"
     ]
    }
   ],
   "source": [
    "s = \"hello\"\n",
    "s = s.replace(\"h\", \"H\")  \n",
    "print(s)  \n",
    "print(\"hello\" == s)"
   ]
  },
  {
   "cell_type": "markdown",
   "id": "872046f3-67e7-49f0-bd47-80d09c44229e",
   "metadata": {},
   "source": [
    "**Mutable Data Types** : A mutable data type is one whose value can be changed after it is created. When you modify a mutable object, the object itself is changed, and no new object is created."
   ]
  },
  {
   "cell_type": "code",
   "execution_count": 59,
   "id": "dc7516c7-6310-43d2-a9b6-3316e5f519b1",
   "metadata": {},
   "outputs": [
    {
     "name": "stdout",
     "output_type": "stream",
     "text": [
      "[10, 2, 3]\n"
     ]
    }
   ],
   "source": [
    "lst = [1, 2, 3]\n",
    "lst[0] = 10\n",
    "print(lst) "
   ]
  },
  {
   "cell_type": "markdown",
   "id": "434eae8c-d900-4a1e-bf51-ed0593ad1070",
   "metadata": {},
   "source": [
    "# 3. Fibonacci Sequence:\n"
   ]
  },
  {
   "cell_type": "markdown",
   "id": "32b35487-004e-4eb0-b8fe-4033cb8f914a",
   "metadata": {},
   "source": [
    "Write a Python function that takes a number n and returns a list of the first n Fibonacci numbers.\n"
   ]
  },
  {
   "cell_type": "code",
   "execution_count": 69,
   "id": "77cbb77d-5a0d-4fe1-8c29-5cbad0b40c27",
   "metadata": {},
   "outputs": [
    {
     "name": "stdout",
     "output_type": "stream",
     "text": [
      "The first 8 Fibonacci numbers are: [0, 1, 1, 2, 3, 5, 8, 13]\n"
     ]
    }
   ],
   "source": [
    "\n",
    "def fibonacci(n):\n",
    "    fib_sequence = []\n",
    "    \n",
    "    if n <= 0:\n",
    "        return fib_sequence\n",
    "    elif n == 1:\n",
    "        return [0]  \n",
    "    elif n == 2:\n",
    "        return [0, 1]  \n",
    "    \n",
    "    fib_sequence = [0, 1]\n",
    "    \n",
    "    for i in range(2, n):\n",
    "        next_fib = fib_sequence[-1] + fib_sequence[-2]\n",
    "        fib_sequence.append(next_fib)\n",
    "    \n",
    "    return fib_sequence\n",
    "\n",
    "\n",
    "n = 8\n",
    "print(f\"The first {n} Fibonacci numbers are: {fibonacci(n)}\")\n"
   ]
  },
  {
   "cell_type": "code",
   "execution_count": 73,
   "id": "d14f339d-8861-4ec5-af6c-a5ade96aa0a0",
   "metadata": {},
   "outputs": [],
   "source": [
    "import matplotlib.pyplot as plt"
   ]
  },
  {
   "cell_type": "code",
   "execution_count": 75,
   "id": "68ebae64-8ac6-47be-bd93-2134caf5e0e8",
   "metadata": {},
   "outputs": [
    {
     "data": {
      "image/png": "[encoded data removed]",
      "text/plain": [
       "<Figure size 640x480 with 1 Axes>"
      ]
     },
     "metadata": {},
     "output_type": "display_data"
    }
   ],
   "source": [
    "n = 20\n",
    "fib_numbers = fibonacci(n)\n",
    "indices = list(range(n))\n",
    "\n",
    "# Plotting the Fibonacci sequence\n",
    "plt.plot(indices, fib_numbers, marker='o', linestyle='-', color='b')\n",
    "\n",
    "# Adding titles and labels\n",
    "plt.title(\"Fibonacci Sequence\")\n",
    "plt.xlabel(\"Index (n)\")\n",
    "plt.ylabel(\"Fibonacci Number\")\n",
    "\n",
    "# Show the plot\n",
    "plt.grid(True)\n",
    "plt.show()"
   ]
  },
  {
   "cell_type": "markdown",
   "id": "f9f8e714-3783-4402-9e65-b1a746a4fcbd",
   "metadata": {},
   "source": [
    "# 4. List Manipulation:"
   ]
  },
  {
   "cell_type": "markdown",
   "id": "b5281b70-7036-4f6f-875c-b4fe3ebc248c",
   "metadata": {},
   "source": [
    "**Given a list [3, 5, 7, 9, 11, 13]:**"
   ]
  },
  {
   "cell_type": "markdown",
   "id": "c4558588-e8dc-4f3a-970d-5dee4ab6fb84",
   "metadata": {},
   "source": [
    "Insert 6 at the 3rd index."
   ]
  },
  {
   "cell_type": "code",
   "execution_count": 86,
   "id": "d954683f-3b1d-4e40-907f-f9284d5481fa",
   "metadata": {},
   "outputs": [
    {
     "name": "stdout",
     "output_type": "stream",
     "text": [
      "List after insertion: [3, 5, 7, 6, 9, 11, 13]\n",
      "List after removal of 7: [3, 5, 6, 9, 11, 13]\n",
      "List after reversal: [13, 11, 9, 6, 5, 3]\n",
      "Mean: 7.833333333333333\n",
      "Median: 7.5\n"
     ]
    }
   ],
   "source": [
    "import statistics\n",
    "\n",
    "lst = [3, 5, 7, 9, 11, 13]\n",
    "lst.insert(3, 6)\n",
    "print(f\"List after insertion: {lst}\")\n",
    "lst.remove(7)\n",
    "print(f\"List after removal of 7: {lst}\")\n",
    "\n",
    "lst.reverse()\n",
    "print(f\"List after reversal: {lst}\")\n",
    "\n",
    "mean_value = sum(lst) / len(lst)  # Mean formula: sum / count\n",
    "median_value = statistics.median(lst)  # Using statistics.median() to find the median\n",
    "\n",
    "print(f\"Mean: {mean_value}\")\n",
    "print(f\"Median: {median_value}\")\n"
   ]
  },
  {
   "cell_type": "markdown",
   "id": "5f34fb36-dd55-4ba9-8bd2-b4708041c6b2",
   "metadata": {},
   "source": [
    "# 5. User Input and Basic Statistics:"
   ]
  },
  {
   "cell_type": "markdown",
   "id": "004fc715-2f43-4045-8d8b-0d8074f0c0e5",
   "metadata": {},
   "source": [
    "Write a program to read a comma-separated list of numbers from the user (e.g., “10, 20, 30, 40”)."
   ]
  },
  {
   "cell_type": "code",
   "execution_count": 104,
   "id": "22610a7b-ae9a-46ae-8aaf-aa06416cd8be",
   "metadata": {},
   "outputs": [
    {
     "name": "stdout",
     "output_type": "stream",
     "text": [
      "Enter a comma-separated list of numbers :  1,4,46,4\n"
     ]
    }
   ],
   "source": [
    "user_input = input(\"Enter a comma-separated list of numbers : \")\n"
   ]
  },
  {
   "cell_type": "markdown",
   "id": "f127ad10-69ae-4ca5-a136-49294b6aaedd",
   "metadata": {},
   "source": [
    "Calculate the mean of the numbers"
   ]
  },
  {
   "cell_type": "code",
   "execution_count": 108,
   "id": "224ea259-edb3-4225-977d-4e1cc47712a5",
   "metadata": {},
   "outputs": [
    {
     "name": "stdout",
     "output_type": "stream",
     "text": [
      "13.75\n"
     ]
    }
   ],
   "source": [
    "numbers = [int(x.strip()) for x in user_input.split(\",\")]\n",
    "mean_value = sum(numbers) / len(numbers)\n",
    "print(mean_value)"
   ]
  },
  {
   "cell_type": "markdown",
   "id": "daf1cf84-abcb-4d12-8ac0-bbe1d79fd865",
   "metadata": {},
   "source": [
    "Identify and print the smallest and largest numbers."
   ]
  },
  {
   "cell_type": "code",
   "execution_count": 110,
   "id": "261cd303-2c7d-4262-ab77-e681f733805e",
   "metadata": {},
   "outputs": [],
   "source": [
    "smallest = min(numbers)\n",
    "largest = max(numbers)"
   ]
  },
  {
   "cell_type": "markdown",
   "id": "fcfcc2e3-fe6b-4376-8762-c9600b2377bf",
   "metadata": {},
   "source": [
    "Plot a histogram of the numbers.\n"
   ]
  },
  {
   "cell_type": "code",
   "execution_count": 113,
   "id": "2304ff45-a31c-45ea-8560-d1a761537774",
   "metadata": {},
   "outputs": [
    {
     "data": {
      "image/png": "[encoded data removed]",
      "text/plain": [
       "<Figure size 640x480 with 1 Axes>"
      ]
     },
     "metadata": {},
     "output_type": "display_data"
    }
   ],
   "source": [
    "plt.hist(numbers, bins=5, color='blue', edgecolor='black')\n",
    "\n",
    "# Adding titles and labels to the histogram\n",
    "plt.title(\"Histogram of Numbers\")\n",
    "plt.xlabel(\"Value\")\n",
    "plt.ylabel(\"Frequency\")\n",
    "\n",
    "# Display the plot\n",
    "plt.show()"
   ]
  },
  {
   "cell_type": "markdown",
   "id": "f64c4965-79fb-4457-81fd-1cef1e7837d7",
   "metadata": {},
   "source": [
    "# 6. Palindrome Check:"
   ]
  },
  {
   "cell_type": "markdown",
   "id": "0d13000a-d13f-4372-bf85-6a1a24265d71",
   "metadata": {},
   "source": [
    "Write a program to check if a string is a palindrome (ignoring spaces and case).\n"
   ]
  },
  {
   "cell_type": "code",
   "execution_count": 117,
   "id": "8e2d1598-748c-40d2-abd7-b18afffbcdaf",
   "metadata": {},
   "outputs": [
    {
     "data": {
      "text/plain": [
       "True"
      ]
     },
     "execution_count": 117,
     "metadata": {},
     "output_type": "execute_result"
    }
   ],
   "source": [
    "def is_palindrome(s):\n",
    "    # Step 1: Remove spaces and convert to lowercase\n",
    "    s = s.replace(\" \", \"\").lower()\n",
    "    \n",
    "    # Step 2: Compare the string with its reverse\n",
    "    return s == s[::-1]\n",
    "is_palindrome(\"A man a plan a canal Panama\")    "
   ]
  },
  {
   "cell_type": "markdown",
   "id": "9d08f340-9b9a-42ea-af06-008f47a7f0e0",
   "metadata": {},
   "source": [
    "# 7. Dictionary Operations:\n"
   ]
  },
  {
   "cell_type": "markdown",
   "id": "8889b4ea-3ecf-46ae-99f0-f15352361fa9",
   "metadata": {},
   "source": [
    "Create a dictionary of student names (keys) and their marks (values).\n"
   ]
  },
  {
   "cell_type": "code",
   "execution_count": 121,
   "id": "ecf70be6-3f5a-45e0-b215-50e1e953b296",
   "metadata": {},
   "outputs": [],
   "source": [
    "student_marks = {\n",
    "    \"Amit\": 85,\n",
    "    \"Bobby\": 72,\n",
    "    \"Chahat\": 95,\n",
    "    \"David\": 78,\n",
    "    \"shanky\": 88,\n",
    "    \"rohit\": 92\n",
    "}"
   ]
  },
  {
   "cell_type": "markdown",
   "id": "b233cfa9-57e2-436a-b913-95115fd37596",
   "metadata": {},
   "source": [
    "Compute the average marks"
   ]
  },
  {
   "cell_type": "code",
   "execution_count": 127,
   "id": "5903b5d9-e1f5-4013-9410-57b3540ceef6",
   "metadata": {},
   "outputs": [
    {
     "name": "stdout",
     "output_type": "stream",
     "text": [
      "Average Marks: 85.00\n"
     ]
    }
   ],
   "source": [
    "average_marks = sum(student_marks.values()) / len(student_marks)\n",
    "print(f\"Average Marks: {average_marks:.2f}\")"
   ]
  },
  {
   "cell_type": "markdown",
   "id": "54d6ea9e-62b1-4a35-99c5-2bae04e3328a",
   "metadata": {},
   "source": [
    "Print the names of students scoring above the average.\n"
   ]
  },
  {
   "cell_type": "code",
   "execution_count": 129,
   "id": "eb9ff4dd-ca33-49ab-919b-1732df0464de",
   "metadata": {},
   "outputs": [
    {
     "name": "stdout",
     "output_type": "stream",
     "text": [
      "Students scoring above average:\n",
      "- Chahat with 95 marks\n",
      "- shanky with 88 marks\n",
      "- rohit with 92 marks\n"
     ]
    }
   ],
   "source": [
    "print(\"Students scoring above average:\")\n",
    "\n",
    "for student, marks in student_marks.items():\n",
    "    if marks > average_marks:\n",
    "        print(f\"- {student} with {marks} marks\")"
   ]
  },
  {
   "cell_type": "markdown",
   "id": "86025a19-2d1d-43df-8ffd-e3fc3d8d2a89",
   "metadata": {},
   "source": [
    "Visualize the distribution of marks using a bar chart.\n"
   ]
  },
  {
   "cell_type": "code",
   "execution_count": 134,
   "id": "30bce116-033f-431e-8262-ad744f557b68",
   "metadata": {},
   "outputs": [
    {
     "data": {
      "text/plain": [
       "Text(0, 0.5, 'Marks')"
      ]
     },
     "execution_count": 134,
     "metadata": {},
     "output_type": "execute_result"
    },
    {
     "data": {
      "image/png": "[encoded data removed]",
      "text/plain": [
       "<Figure size 640x480 with 1 Axes>"
      ]
     },
     "metadata": {},
     "output_type": "display_data"
    }
   ],
   "source": [
    "names = list(student_marks.keys())\n",
    "marks = list(student_marks.values())\n",
    "\n",
    "# Plotting the bar chart\n",
    "plt.bar(names, marks, color='skyblue')\n",
    "\n",
    "# Adding titles and labels\n",
    "plt.title(\"Student Marks Distribution\")\n",
    "plt.xlabel(\"Student Names\")\n",
    "plt.ylabel(\"Marks\")"
   ]
  },
  {
   "cell_type": "markdown",
   "id": "a2196ba0-6376-4fc9-93cb-3d047533b2a7",
   "metadata": {},
   "source": [
    "# 8. Tuple List Creation:"
   ]
  },
  {
   "cell_type": "markdown",
   "id": "fb057358-2e15-40f3-a433-ee5fac5bd44d",
   "metadata": {},
   "source": [
    "Create a list of tuples, where each tuple contains a number and its square (e.g., [(1, 1), (2, 4), (3, 9), ...] for numbers 1 to 10)."
   ]
  },
  {
   "cell_type": "code",
   "execution_count": 138,
   "id": "eac65f33-f3ac-4fe0-acdf-6e841562c637",
   "metadata": {},
   "outputs": [],
   "source": [
    "numbers = range(1, 11)  # Numbers from 1 to 10\n",
    "squares = [x ** 2 for x in numbers]  # List of squares of the numbers\n",
    "number_square_tuples = list(zip(numbers, squares))"
   ]
  },
  {
   "cell_type": "markdown",
   "id": "6b011d52-5cd4-4b81-a245-cb38515150cf",
   "metadata": {},
   "source": [
    "Plot the numbers and their squares on a scatter plot.\n"
   ]
  },
  {
   "cell_type": "code",
   "execution_count": 143,
   "id": "1ecf18bf-125b-45f7-ba19-f4d3009315c0",
   "metadata": {},
   "outputs": [
    {
     "data": {
      "image/png": "[encoded data removed]",
      "text/plain": [
       "<Figure size 640x480 with 1 Axes>"
      ]
     },
     "metadata": {},
     "output_type": "display_data"
    },
    {
     "name": "stdout",
     "output_type": "stream",
     "text": [
      "List of number and square pairs: [(1, 1), (2, 4), (3, 9), (4, 16), (5, 25), (6, 36), (7, 49), (8, 64), (9, 81), (10, 100)]\n"
     ]
    }
   ],
   "source": [
    "plt.scatter(numbers, squares, color='blue', marker='o')\n",
    "\n",
    "plt.title(\"Numbers and Their Squares\")\n",
    "plt.xlabel(\"Number\")\n",
    "plt.ylabel(\"Square of Number\")\n",
    "\n",
    "plt.grid(True)\n",
    "plt.show()\n",
    "\n",
    "print(\"List of number and square pairs:\", number_square_tuples)"
   ]
  },
  {
   "cell_type": "markdown",
   "id": "5489e10a-05fd-4d91-9dd0-4475c1c4e4fd",
   "metadata": {},
   "source": [
    "# 9. Merging Dictionaries:"
   ]
  },
  {
   "cell_type": "markdown",
   "id": "fbc58b80-ff06-49a5-86f8-29d10d4b0e5c",
   "metadata": {},
   "source": [
    "Write Python code to merge two dictionaries. If a key is present in both, sum their values.\n",
    "\n"
   ]
  },
  {
   "cell_type": "code",
   "execution_count": 147,
   "id": "48059fbd-8a1d-430f-a5fd-4768e1f214a7",
   "metadata": {},
   "outputs": [
    {
     "name": "stdout",
     "output_type": "stream",
     "text": [
      "Merged Dictionary: {'a': 10, 'b': 35, 'c': 35, 'd': 25}\n"
     ]
    }
   ],
   "source": [
    "def merge_dicts(dict1, dict2):\n",
    "    # Create a new dictionary that will contain the merged result\n",
    "    merged_dict = dict1.copy()  # Start with a copy of dict1\n",
    "\n",
    "    # Loop through keys and values in dict2\n",
    "    for key, value in dict2.items():\n",
    "        if key in merged_dict:\n",
    "            # If the key exists in dict1, sum the values\n",
    "            merged_dict[key] += value\n",
    "        else:\n",
    "            # Otherwise, just add the key-value pair\n",
    "            merged_dict[key] = value\n",
    "    \n",
    "    return merged_dict\n",
    "\n",
    "# Example usage\n",
    "dict1 = {'a': 10, 'b': 20, 'c': 30}\n",
    "dict2 = {'b': 15, 'c': 5, 'd': 25}\n",
    "\n",
    "# Merge the dictionaries\n",
    "merged_dict = merge_dicts(dict1, dict2)\n",
    "\n",
    "# Print the result\n",
    "print(\"Merged Dictionary:\", merged_dict)\n"
   ]
  },
  {
   "cell_type": "markdown",
   "id": "f650387a-8458-4ec9-9fe3-685f447cd50b",
   "metadata": {},
   "source": [
    "# 10. Character Frequency:"
   ]
  },
  {
   "cell_type": "markdown",
   "id": "0c65e7d3-b878-4f58-a225-8000f8004b29",
   "metadata": {},
   "source": [
    "**Write a function that accepts a string and:**"
   ]
  },
  {
   "cell_type": "markdown",
   "id": "920080c2-0124-4492-a5b0-421ff9c6c4fe",
   "metadata": {},
   "source": [
    "* Converts all characters to lowercase.\n",
    "* Counts the frequency of each character.\n",
    "* \n",
    "Returns a dictionary with characters as keys and their counts as values\n",
    "* \n",
    "Visualize the character frequencies using a bar chart."
   ]
  },
  {
   "cell_type": "code",
   "execution_count": 161,
   "id": "9697a69f-1dc5-47e8-bc65-7e47aabb54b6",
   "metadata": {},
   "outputs": [
    {
     "name": "stdout",
     "output_type": "stream",
     "text": [
      "Enter a string:  my name is mithlesh\n"
     ]
    },
    {
     "name": "stdout",
     "output_type": "stream",
     "text": [
      "Character Frequency: {'m': 3, 'y': 1, ' ': 3, 'n': 1, 'a': 1, 'e': 2, 'i': 2, 's': 2, 't': 1, 'h': 2, 'l': 1}\n"
     ]
    },
    {
     "data": {
      "image/png": "[encoded data removed]",
      "text/plain": [
       "<Figure size 640x480 with 1 Axes>"
      ]
     },
     "metadata": {},
     "output_type": "display_data"
    }
   ],
   "source": [
    "import matplotlib.pyplot as plt\n",
    "from collections import Counter\n",
    "\n",
    "def character_frequency(s):\n",
    "    # Step 1: Convert all characters to lowercase\n",
    "    s = s.lower()\n",
    "    \n",
    "    # Step 2: Count the frequency of each character using Counter\n",
    "    freq = Counter(s)\n",
    "    \n",
    "    # Step 3: Return the frequency dictionary\n",
    "    return dict(freq)\n",
    "\n",
    "def plot_frequency(freq_dict):\n",
    "    # Step 4: Plot the character frequencies using a bar chart\n",
    "    # Extract keys (characters) and values (frequencies)\n",
    "    characters = list(freq_dict.keys())\n",
    "    frequencies = list(freq_dict.values())\n",
    "    \n",
    "    # Create the bar chart\n",
    "    plt.bar(characters, frequencies, color='skyblue', edgecolor='black')\n",
    "    \n",
    "    # Add labels and title\n",
    "    plt.title(\"Character Frequency\")\n",
    "    plt.xlabel(\"Character\")\n",
    "    plt.ylabel(\"Frequency\")\n",
    "    \n",
    "    # Display the plot\n",
    "    plt.xticks(rotation=90)  # Rotate character labels for better readability\n",
    "    plt.show()\n",
    "\n",
    "# Example usage\n",
    "input_string = input(\"Enter a string: \")\n",
    "\n",
    "# Get the frequency dictionary\n",
    "freq_dict = character_frequency(input_string)\n",
    "\n",
    "# Print the frequency dictionary\n",
    "print(\"Character Frequency:\", freq_dict)\n",
    "\n",
    "# Plot the character frequencies\n",
    "plot_frequency(freq_dict)\n"
   ]
  },
  {
   "cell_type": "markdown",
   "id": "69d9e509-78ae-494b-aa23-f7ecaf7cd5aa",
   "metadata": {},
   "source": [
    "# 11. Remove Duplicates:"
   ]
  },
  {
   "cell_type": "markdown",
   "id": "0b15f9ab-e981-4f2d-830a-8f70749e4a59",
   "metadata": {},
   "source": [
    "Write a program to remove duplicate elements from a list while maintaining the order of elements"
   ]
  },
  {
   "cell_type": "code",
   "execution_count": 165,
   "id": "654ad342-ef46-42c3-81b8-e9dc1b39ade9",
   "metadata": {},
   "outputs": [
    {
     "name": "stdout",
     "output_type": "stream",
     "text": [
      "Original List: [1, 21, 24, 754, 22, 2, 3, 24, 3, 235, 1]\n",
      "List after removing duplicates: [1, 21, 24, 754, 22, 2, 3, 235]\n"
     ]
    }
   ],
   "source": [
    "def remove_duplicates(input_list):\n",
    "    seen = set()  # Set to track seen elements\n",
    "    result = []   # List to store the result with unique elements\n",
    "\n",
    "    for item in input_list:\n",
    "        if item not in seen:\n",
    "            result.append(item)  # Add item to the result list if it's not seen before\n",
    "            seen.add(item)        # Mark the item as seen\n",
    "\n",
    "    return result\n",
    "\n",
    "\n",
    "input_list = [1,21 ,24,754,22, 2, 3,24, 3, 235, 1]\n",
    "output_list = remove_duplicates(input_list)\n",
    "\n",
    "print(\"Original List:\", input_list)\n",
    "print(\"List after removing duplicates:\", output_list)\n"
   ]
  },
  {
   "cell_type": "markdown",
   "id": "9a05fb34-0eb2-464c-be6a-f97407882829",
   "metadata": {},
   "source": [
    "Calculate the mean and median of the unique elements."
   ]
  },
  {
   "cell_type": "code",
   "execution_count": 170,
   "id": "758d64a2-58a1-40a9-87db-708712fb1c84",
   "metadata": {},
   "outputs": [
    {
     "name": "stdout",
     "output_type": "stream",
     "text": [
      "mean: 132.75\n",
      "median: 21.5\n"
     ]
    }
   ],
   "source": [
    "mean=sum(output_list)/len(output_list)\n",
    "print(\"mean:\",mean)\n",
    "def median(data):\n",
    "    \"\"\"Calculate the median of a list of numbers.\"\"\"\n",
    "    data_sorted = sorted(data)\n",
    "    n = len(data_sorted)\n",
    "    mid = n // 2\n",
    "    \n",
    "    if n % 2 == 0:\n",
    "        # If even number of elements, return the average of the middle two\n",
    "        return (data_sorted[mid - 1] + data_sorted[mid]) / 2\n",
    "    else:\n",
    "        # If odd number of elements, return the middle element\n",
    "        return data_sorted[mid]\n",
    "md=median(output_list)        \n",
    "print('median:',md)"
   ]
  },
  {
   "cell_type": "markdown",
   "id": "bcfefaf6-ed09-4ac0-beda-26a590b23115",
   "metadata": {},
   "source": [
    "# 12. String Operations:"
   ]
  },
  {
   "cell_type": "markdown",
   "id": "b9742805-6246-4fc3-8dbc-3bf95e699a32",
   "metadata": {},
   "source": [
    "**Given a list of strings, write a Python function to:**"
   ]
  },
  {
   "cell_type": "markdown",
   "id": "403dd79a-94db-4be8-bc37-e9c9bb9d51c9",
   "metadata": {},
   "source": [
    "* Find the longest string.\n",
    "* \n",
    "Count how many strings start with a vowe.\n",
    "* \n",
    "Visualize the distribution of string lengths using a histogram."
   ]
  },
  {
   "cell_type": "code",
   "execution_count": 181,
   "id": "46a71034-81aa-4ea9-94e0-7ec22b1a39b7",
   "metadata": {},
   "outputs": [
    {
     "data": {
      "image/png": "[encoded data removed]",
      "text/plain": [
       "<Figure size 640x480 with 1 Axes>"
      ]
     },
     "metadata": {},
     "output_type": "display_data"
    },
    {
     "name": "stdout",
     "output_type": "stream",
     "text": [
      "Longest String: strawberry\n",
      "Count of Strings Starting with a Vowel: 2\n"
     ]
    }
   ],
   "source": [
    "import matplotlib.pyplot as plt\n",
    "\n",
    "def analyze_strings(string_list):\n",
    "    # Task 1: Find the longest string\n",
    "    longest_string = max(string_list, key=len) if string_list else \"\"\n",
    "\n",
    "    # Task 2: Count how many strings start with a vowel\n",
    "    vowels = \"aeiouAEIOU\"\n",
    "    count_vowels = sum(1 for s in string_list if s and s[0] in vowels)\n",
    "\n",
    "    # Task 3: Visualize the distribution of string lengths using a histogram\n",
    "    string_lengths = [len(s) for s in string_list]\n",
    "    \n",
    "    # Plot histogram\n",
    "    plt.hist(string_lengths, bins=range(min(string_lengths), max(string_lengths) + 1, 1), color='skyblue', edgecolor='black')\n",
    "    plt.title(\"Distribution of String Lengths\")\n",
    "    plt.xlabel(\"String Length\")\n",
    "    plt.ylabel(\"Frequency\")\n",
    "    plt.grid(True)\n",
    "    plt.show()\n",
    "\n",
    "    return longest_string, count_vowels\n",
    "\n",
    "# Example usage\n",
    "string_list = [\"apple\", \"orange\", \"banana\", \"pear\", \"grape\", \"kiwi\", \"strawberry\"]\n",
    "\n",
    "# Get the results\n",
    "longest_string, count_vowels = analyze_strings(string_list)\n",
    "\n",
    "# Print results\n",
    "print(\"Longest String:\", longest_string)\n",
    "print(\"Count of Strings Starting with a Vowel:\", count_vowels)\n"
   ]
  },
  {
   "cell_type": "markdown",
   "id": "3c94d2a1-40e9-4076-88f6-4a15d4245151",
   "metadata": {},
   "source": [
    "# 13. Sorting Dictionaries:"
   ]
  },
  {
   "cell_type": "markdown",
   "id": "eecf3a76-161e-4540-9e17-094bc71fb973",
   "metadata": {},
   "source": [
    "Write a function to sort a list of dictionaries by a key.\n",
    "\n"
   ]
  },
  {
   "cell_type": "code",
   "execution_count": 187,
   "id": "7ecb2ff3-5aa6-4c5a-a9b3-5e87c9978c3f",
   "metadata": {},
   "outputs": [
    {
     "name": "stdout",
     "output_type": "stream",
     "text": [
      "Sorted List by Age:\n",
      "{'name': 'Bob', 'age': 20}\n",
      "{'name': 'Alice', 'age': 25}\n",
      "{'name': 'Charlie', 'age': 30}\n"
     ]
    }
   ],
   "source": [
    "def sort_dict_list(dict_list, key):\n",
    "    \n",
    "    return sorted(dict_list, key=lambda x: x.get(key))\n",
    "\n",
    "# Example usage\n",
    "dict_list = [\n",
    "    {\"name\": \"Alice\", \"age\": 25},\n",
    "    {\"name\": \"Bob\", \"age\": 20},\n",
    "    {\"name\": \"Charlie\", \"age\": 30}\n",
    "]\n",
    "\n",
    "# Sort by the 'age' key\n",
    "sorted_list = sort_dict_list(dict_list, \"age\")\n",
    "\n",
    "# Print the sorted list\n",
    "print(\"Sorted List by Age:\")\n",
    "for item in sorted_list:\n",
    "    print(item)\n"
   ]
  },
  {
   "cell_type": "markdown",
   "id": "d42f72de-a487-4148-a76f-07e569403df9",
   "metadata": {},
   "source": [
    "# 14. Word Filtering and Sorting"
   ]
  },
  {
   "cell_type": "markdown",
   "id": "1b5e4021-27ab-4e52-8bdf-e2c587d44c00",
   "metadata": {},
   "source": [
    "Write a program to:\n",
    "* \n",
    "Split a string into a list of words\n",
    "* \n",
    "Remove all words that are shorter than 4 character\n",
    "* .\n",
    "Sort the remaining words alphabetical\n",
    "* y.\n",
    "Visualize the word lengths using a bar chart.rt."
   ]
  },
  {
   "cell_type": "code",
   "execution_count": 207,
   "id": "515c76a6-42e5-48c9-8e22-be1ae8084475",
   "metadata": {},
   "outputs": [
    {
     "data": {
      "image/png": "[encoded data removed]",
      "text/plain": [
       "<Figure size 640x480 with 1 Axes>"
      ]
     },
     "metadata": {},
     "output_type": "display_data"
    },
    {
     "name": "stdout",
     "output_type": "stream",
     "text": [
      "Sorted words (after filtering and sorting):\n",
      "['brown', 'jumps', 'lazy', 'over', 'quick']\n"
     ]
    }
   ],
   "source": [
    "import matplotlib.pyplot as plt\n",
    "\n",
    "def process_string(input_string):\n",
    "    # Step 1: Split the string into a list of words\n",
    "    words = input_string.split()\n",
    "\n",
    "    # Step 2: Remove words shorter than 4 characters\n",
    "    filtered_words = [word for word in words if len(word) >= 4]\n",
    "\n",
    "    # Step 3: Sort the remaining words alphabetically\n",
    "    sorted_words = sorted(filtered_words)\n",
    "\n",
    "    # Step 4: Visualize the word lengths using a bar chart\n",
    "    word_lengths = [len(word) for word in sorted_words]\n",
    "\n",
    "    # Create a bar chart\n",
    "    plt.bar(sorted_words, word_lengths, color='lightgreen', edgecolor='black')\n",
    "    plt.title(\"Word Length Distribution\")\n",
    "    plt.xlabel(\"Words\")\n",
    "    plt.ylabel(\"Length\")\n",
    "    plt.xticks(rotation=45)\n",
    "    plt.tight_layout()\n",
    "    plt.show()\n",
    "\n",
    "    return sorted_words\n",
    "\n",
    "# Example usage\n",
    "input_string = \"The quick brown fox jumps over the lazy dog\"\n",
    "sorted_words = process_string(input_string)\n",
    "\n",
    "# Print the sorted words\n",
    "print(\"Sorted words (after filtering and sorting):\")\n",
    "print(sorted_words)\n"
   ]
  },
  {
   "cell_type": "markdown",
   "id": "be619b08-7d8b-4a79-84cb-936109b47ff1",
   "metadata": {},
   "source": [
    "# 15. Anagram Finder:"
   ]
  },
  {
   "cell_type": "markdown",
   "id": "1bcd3783-3b70-49d4-88a7-fe792259062f",
   "metadata": {},
   "source": [
    "Write a Python function to find all anagrams of a word in a given list."
   ]
  },
  {
   "cell_type": "code",
   "execution_count": 231,
   "id": "ba73de01-fa04-40fe-9202-e8f970dc27ac",
   "metadata": {},
   "outputs": [
    {
     "name": "stdout",
     "output_type": "stream",
     "text": [
      "Anagrams of 'listen': ['enlist', 'inlets']\n"
     ]
    }
   ],
   "source": [
    "def find_anagrams(word, words):\n",
    "    # Sort the given word to use as a reference\n",
    "    sorted_word = ''.join(sorted(word))\n",
    "    \n",
    "    # Find all words in the list that are anagrams of the given word\n",
    "    anagrams = [w for w in words if ''.join(sorted(w)) == sorted_word]\n",
    "    \n",
    "    return anagrams\n",
    "\n",
    "# Example usage\n",
    "word = \"listen\"\n",
    "words = [\"enlist\", \"google\", \"inlets\", \"banana\"]\n",
    "\n",
    "anagrams = find_anagrams(word, words)\n",
    "print(\"Anagrams of '{}':\".format(word), anagrams)\n"
   ]
  },
  {
   "cell_type": "markdown",
   "id": "257b4c3b",
   "metadata": {},
   "source": [
    "# 16. Set Operations:"
   ]
  },
  {
   "cell_type": "markdown",
   "id": "07dafdc2",
   "metadata": {},
   "source": [
    "Given two lists, write Python code to find their intersection, union, and symmetric difference."
   ]
  },
  {
   "cell_type": "code",
   "execution_count": 1,
   "id": "140fe19c",
   "metadata": {},
   "outputs": [
    {
     "name": "stdout",
     "output_type": "stream",
     "text": [
      "Intersection: {4, 5}\n",
      "Union: {1, 2, 3, 4, 5, 6, 7, 8}\n",
      "Symmetric Difference: {1, 2, 3, 6, 7, 8}\n"
     ]
    }
   ],
   "source": [
    "# Define the two lists\n",
    "list1 = [1, 2, 3, 4, 5]\n",
    "list2 = [4, 5, 6, 7, 8]\n",
    "\n",
    "# Convert lists to sets\n",
    "set1 = set(list1)\n",
    "set2 = set(list2)\n",
    "\n",
    "# Find the intersection\n",
    "intersection = set1 & set2\n",
    "\n",
    "# Find the union\n",
    "union = set1 | set2\n",
    "\n",
    "# Find the symmetric difference\n",
    "symmetric_difference = set1 ^ set2\n",
    "\n",
    "# Print the results\n",
    "print(\"Intersection:\", intersection)\n",
    "print(\"Union:\", union)\n",
    "print(\"Symmetric Difference:\", symmetric_difference)\n"
   ]
  },
  {
   "cell_type": "markdown",
   "id": "20ad7fab",
   "metadata": {},
   "source": [
    "Visualize the results using Venn diagrams."
   ]
  },
  {
   "cell_type": "code",
   "execution_count": 4,
   "id": "5eb8ae20",
   "metadata": {},
   "outputs": [
    {
     "data": {
      "image/png": "[encoded data removed]",
      "text/plain": [
       "<Figure size 1000x600 with 1 Axes>"
      ]
     },
     "metadata": {},
     "output_type": "display_data"
    }
   ],
   "source": [
    "import matplotlib.pyplot as plt\n",
    "from matplotlib_venn import venn2\n",
    "plt.figure(figsize=(10, 6))\n",
    "\n",
    "# Plot Venn Diagram for Intersection, Union, and Symmetric Difference\n",
    "# Venn diagram for sets set1 and set2\n",
    "venn = venn2([set1, set2], set_labels=('Set 1', 'Set 2'))\n",
    "\n",
    "# Display results on the Venn diagram\n",
    "venn.get_label_by_id('10').set_text(f'Set 1 Only\\n{set1 - set2}')\n",
    "venn.get_label_by_id('01').set_text(f'Set 2 Only\\n{set2 - set1}')\n",
    "venn.get_label_by_id('11').set_text(f'Intersection\\n{set1 & set2}')\n",
    "\n",
    "# Show plot\n",
    "plt.title(\"Venn Diagram: Intersection, Union, and Symmetric Difference\")\n",
    "plt.show()"
   ]
  },
  {
   "cell_type": "markdown",
   "id": "c8786bc7",
   "metadata": {},
   "source": [
    "# 17. File Operations:"
   ]
  },
  {
   "cell_type": "markdown",
   "id": "203ecb31",
   "metadata": {},
   "source": [
    "Write Python code to:\n",
    "* Create a text file.\n",
    "* Write a list of numbers to the file (one per line).\n",
    "* Read the file and compute their sum"
   ]
  },
  {
   "cell_type": "code",
   "execution_count": 5,
   "id": "53b3de38",
   "metadata": {},
   "outputs": [
    {
     "name": "stdout",
     "output_type": "stream",
     "text": [
      "The sum of the numbers is: 150\n"
     ]
    }
   ],
   "source": [
    "# Define a list of numbers\n",
    "numbers = [10, 20, 30, 40, 50]\n",
    "\n",
    "# 1. Create and write the numbers to a text file\n",
    "with open('numbers.txt', 'w') as file:\n",
    "    for number in numbers:\n",
    "        file.write(f\"{number}\\n\")\n",
    "\n",
    "# 2. Read the file and compute the sum of the numbers\n",
    "with open('numbers.txt', 'r') as file:\n",
    "    total_sum = 0\n",
    "    for line in file:\n",
    "        total_sum += int(line.strip())  # Strip to remove any extra whitespace or newline characters\n",
    "\n",
    "# 3. Print the computed sum\n",
    "print(f\"The sum of the numbers is: {total_sum}\")\n"
   ]
  },
  {
   "cell_type": "markdown",
   "id": "c6104a25",
   "metadata": {},
   "source": [
    "# 18. Word Count and Frequency:"
   ]
  },
  {
   "cell_type": "markdown",
   "id": "04029050",
   "metadata": {},
   "source": [
    "Write a program to:\n",
    "* Read a file and count the number of words in it.\n",
    "* Find the most frequent word.\n",
    "* Visualize the word frequencies using a bar chart"
   ]
  },
  {
   "cell_type": "code",
   "execution_count": 8,
   "id": "c3ba8100",
   "metadata": {},
   "outputs": [
    {
     "name": "stdout",
     "output_type": "stream",
     "text": [
      "Total number of words: 5\n",
      "The most frequent word is '10' with 1 occurrences.\n"
     ]
    },
    {
     "data": {
      "image/png": "[encoded data removed]",
      "text/plain": [
       "<Figure size 1000x600 with 1 Axes>"
      ]
     },
     "metadata": {},
     "output_type": "display_data"
    }
   ],
   "source": [
    "import matplotlib.pyplot as plt\n",
    "from collections import Counter\n",
    "import string\n",
    "\n",
    "# 1. Read the file and extract words\n",
    "def read_file(file_path):\n",
    "    with open(file_path, 'r') as file:\n",
    "        text = file.read()\n",
    "    return text\n",
    "\n",
    "# 2. Count the number of words\n",
    "def count_words(text):\n",
    "    # Remove punctuation and convert text to lower case\n",
    "    text = text.lower()\n",
    "    text = text.translate(str.maketrans('', '', string.punctuation))\n",
    "    \n",
    "    # Split text into words\n",
    "    words = text.split()\n",
    "    \n",
    "    # Count frequency of each word using Counter\n",
    "    word_count = Counter(words)\n",
    "    return word_count, len(words)\n",
    "\n",
    "# 3. Find the most frequent word\n",
    "def most_frequent_word(word_count):\n",
    "    return word_count.most_common(1)[0]\n",
    "\n",
    "# 4. Visualize the word frequencies using a bar chart\n",
    "def visualize_word_frequencies(word_count):\n",
    "    # Get the top 10 most common words\n",
    "    common_words = word_count.most_common(10)\n",
    "    \n",
    "    # Unzip the list of tuples into two lists: words and their counts\n",
    "    words, counts = zip(*common_words)\n",
    "    \n",
    "    # Create the bar chart\n",
    "    plt.figure(figsize=(10, 6))\n",
    "    plt.bar(words, counts)\n",
    "    plt.xlabel('Words')\n",
    "    plt.ylabel('Frequency')\n",
    "    plt.title('Top 10 Most Frequent Words')\n",
    "    plt.xticks(rotation=45, ha='right')\n",
    "    plt.show()\n",
    "\n",
    "# Main function to tie everything together\n",
    "def main():\n",
    "    file_path = 'numbers.txt'  # Replace with your file path\n",
    "    \n",
    "    # Read the file content\n",
    "    text = read_file(file_path)\n",
    "    \n",
    "    # Count the words in the text\n",
    "    word_count, total_words = count_words(text)\n",
    "    \n",
    "    # Print the total word count\n",
    "    print(f\"Total number of words: {total_words}\")\n",
    "    \n",
    "    # Find the most frequent word\n",
    "    frequent_word, frequency = most_frequent_word(word_count)\n",
    "    print(f\"The most frequent word is '{frequent_word}' with {frequency} occurrences.\")\n",
    "    \n",
    "    # Visualize the word frequencies\n",
    "    visualize_word_frequencies(word_count)\n",
    "\n",
    "# Run the program\n",
    "if __name__ == \"__main__\":\n",
    "    main()\n"
   ]
  },
  {
   "cell_type": "markdown",
   "id": "1c4eaf7e",
   "metadata": {},
   "source": [
    "# 19. Random Number Generation:"
   ]
  },
  {
   "cell_type": "markdown",
   "id": "214141d7",
   "metadata": {},
   "source": [
    "Write a Python program to:\n",
    "* Generate 100 random integers between 1 and 50.\n",
    "* Save them in a text file, one per line.\n",
    "* Read the file and compute the mean of the numbers.\n",
    "* Visualize the distribution of the numbers using a histogram"
   ]
  },
  {
   "cell_type": "code",
   "execution_count": 9,
   "id": "a22096e4",
   "metadata": {},
   "outputs": [
    {
     "name": "stdout",
     "output_type": "stream",
     "text": [
      "Mean of the numbers: 25.08\n"
     ]
    },
    {
     "data": {
      "image/png": "[encoded data removed]",
      "text/plain": [
       "<Figure size 1000x600 with 1 Axes>"
      ]
     },
     "metadata": {},
     "output_type": "display_data"
    }
   ],
   "source": [
    "import random\n",
    "import matplotlib.pyplot as plt\n",
    "\n",
    "# 1. Generate 100 random integers between 1 and 50\n",
    "random_numbers = [random.randint(1, 50) for _ in range(100)]\n",
    "\n",
    "# 2. Save them to a text file (one number per line)\n",
    "with open('random_numbers.txt', 'w') as file:\n",
    "    for number in random_numbers:\n",
    "        file.write(f\"{number}\\n\")\n",
    "\n",
    "# 3. Read the file and compute the mean of the numbers\n",
    "with open('random_numbers.txt', 'r') as file:\n",
    "    numbers_from_file = [int(line.strip()) for line in file]\n",
    "\n",
    "# Compute the mean\n",
    "mean = sum(numbers_from_file) / len(numbers_from_file)\n",
    "\n",
    "# Print the mean\n",
    "print(f\"Mean of the numbers: {mean:.2f}\")\n",
    "\n",
    "# 4. Visualize the distribution of the numbers using a histogram\n",
    "plt.figure(figsize=(10, 6))\n",
    "plt.hist(numbers_from_file, bins=range(1, 52), edgecolor='black', align='left', alpha=0.7)\n",
    "plt.xlabel('Number')\n",
    "plt.ylabel('Frequency')\n",
    "plt.title('Distribution of Random Numbers')\n",
    "plt.xticks(range(1, 51))\n",
    "plt.grid(True)\n",
    "plt.show()\n"
   ]
  },
  {
   "cell_type": "markdown",
   "id": "022b3504",
   "metadata": {},
   "source": [
    "# 20. CSV File Operations:"
   ]
  },
  {
   "cell_type": "markdown",
   "id": "e70d8d15",
   "metadata": {},
   "source": [
    "* Write Python code to read a CSV file and compute the sum of values in a specific column.\n",
    "* Visualize the data using a line plot."
   ]
  },
  {
   "cell_type": "code",
   "execution_count": 16,
   "id": "a516382e",
   "metadata": {},
   "outputs": [
    {
     "name": "stdout",
     "output_type": "stream",
     "text": [
      "Sum of the 'Amount' column: 1000.0\n"
     ]
    },
    {
     "data": {
      "image/png": "[encoded data removed]",
      "text/plain": [
       "<Figure size 1000x600 with 1 Axes>"
      ]
     },
     "metadata": {},
     "output_type": "display_data"
    }
   ],
   "source": [
    "import csv\n",
    "import matplotlib.pyplot as plt\n",
    "\n",
    "# 1. Read the CSV file and extract the values from a specific column\n",
    "def read_csv_and_sum_column(file_path, column_name):\n",
    "    # Initialize an empty list to store values of the specific column\n",
    "    column_values = []\n",
    "    \n",
    "    # Open the CSV file\n",
    "    with open(file_path, newline='') as csvfile:\n",
    "        reader = csv.DictReader(csvfile)\n",
    "        \n",
    "        # Read each row in the CSV and extract the value of the specified column\n",
    "        for row in reader:\n",
    "            try:\n",
    "                column_values.append(float(row[column_name]))  # Convert to float for summation\n",
    "            except ValueError:\n",
    "                continue  # Skip rows with invalid data in the column\n",
    "    \n",
    "    # Compute the sum of the values in the specified column\n",
    "    total_sum = sum(column_values)\n",
    "    \n",
    "    return column_values, total_sum\n",
    "\n",
    "# 2. Visualize the data using a line plot\n",
    "def visualize_data(column_values):\n",
    "    plt.figure(figsize=(10, 6))\n",
    "    plt.plot(column_values, marker='o', linestyle='-', color='b', label='Values')\n",
    "    plt.xlabel('Row Index')\n",
    "    plt.ylabel('Values')\n",
    "    plt.title('Line Plot of Column Values')\n",
    "    plt.grid(True)\n",
    "    plt.legend()\n",
    "    plt.show()\n",
    "\n",
    "# Main function to tie everything together\n",
    "def main():\n",
    "    file_path = 'book2.csv'  # Replace with your actual CSV file path\n",
    "    column_name = 'Amount'  # Replace with the name of the column you want to sum\n",
    "    \n",
    "    # Read CSV and compute sum of the specific column\n",
    "    column_values, total_sum = read_csv_and_sum_column(file_path, column_name)\n",
    "    \n",
    "    # Print the sum of the values in the specific column\n",
    "    print(f\"Sum of the '{column_name}' column: {total_sum}\")\n",
    "    \n",
    "    # Visualize the column data using a line plot\n",
    "    visualize_data(column_values)\n",
    "\n",
    "# Run the program\n",
    "if __name__ == \"__main__\":\n",
    "    main()\n"
   ]
  },
  {
   "cell_type": "markdown",
   "id": "2bb8387e",
   "metadata": {},
   "source": [
    "# 21. Basic Statistics:"
   ]
  },
  {
   "cell_type": "markdown",
   "id": "813043cb",
   "metadata": {},
   "source": [
    "Write Python code to calculate:\n",
    "Mean, median, mode, and standard deviation of a list of numbers.\n",
    "Visualize the data using a box plot"
   ]
  },
  {
   "cell_type": "code",
   "execution_count": 17,
   "id": "1a52c3c6",
   "metadata": {},
   "outputs": [
    {
     "name": "stdout",
     "output_type": "stream",
     "text": [
      "Mean: 14.066666666666666\n",
      "Median: 14\n",
      "Mode: 12\n",
      "Standard Deviation: 2.7894358535288784\n"
     ]
    },
    {
     "data": {
      "image/png": "[encoded data removed]",
      "text/plain": [
       "<Figure size 800x600 with 1 Axes>"
      ]
     },
     "metadata": {},
     "output_type": "display_data"
    }
   ],
   "source": [
    "import statistics\n",
    "import matplotlib.pyplot as plt\n",
    "\n",
    "# List of numbers (you can replace this with any list of numbers)\n",
    "data = [12, 15, 14, 10, 10, 13, 12, 18, 19, 14, 15, 12, 13, 16, 18]\n",
    "\n",
    "# 1. Calculate Mean, Median, Mode, and Standard Deviation\n",
    "mean = statistics.mean(data)\n",
    "median = statistics.median(data)\n",
    "mode = statistics.mode(data)\n",
    "std_dev = statistics.stdev(data)\n",
    "\n",
    "# Print the results\n",
    "print(f\"Mean: {mean}\")\n",
    "print(f\"Median: {median}\")\n",
    "print(f\"Mode: {mode}\")\n",
    "print(f\"Standard Deviation: {std_dev}\")\n",
    "\n",
    "# 2. Visualize the data using a Box Plot\n",
    "plt.figure(figsize=(8, 6))\n",
    "plt.boxplot(data, vert=False, patch_artist=True, boxprops=dict(facecolor='lightblue', color='blue'), \n",
    "            whiskerprops=dict(color='blue', linewidth=1.5), capprops=dict(color='blue', linewidth=1.5))\n",
    "\n",
    "# Add labels and title\n",
    "plt.xlabel('Values')\n",
    "plt.title('Box Plot of the Data')\n",
    "\n",
    "# Show the plot\n",
    "plt.show()\n"
   ]
  },
  {
   "cell_type": "markdown",
   "id": "dd87bd59",
   "metadata": {},
   "source": [
    "# 22.Normalization:"
   ]
  },
  {
   "cell_type": "markdown",
   "id": "1bfd1f5e",
   "metadata": {},
   "source": [
    "* Write a Python function to normalize a list of numbers to a range of 0 to 1.\n",
    "* Visualize the normalized data using a line plot."
   ]
  },
  {
   "cell_type": "code",
   "execution_count": 18,
   "id": "b7182522",
   "metadata": {},
   "outputs": [
    {
     "data": {
      "image/png": "[encoded data removed]",
      "text/plain": [
       "<Figure size 1000x600 with 1 Axes>"
      ]
     },
     "metadata": {},
     "output_type": "display_data"
    }
   ],
   "source": [
    "import matplotlib.pyplot as plt\n",
    "\n",
    "# Function to normalize a list of numbers to the range [0, 1]\n",
    "def normalize_data(data):\n",
    "    min_val = min(data)\n",
    "    max_val = max(data)\n",
    "    \n",
    "    # Normalize using the formula: (x - min) / (max - min)\n",
    "    normalized_data = [(x - min_val) / (max_val - min_val) for x in data]\n",
    "    \n",
    "    return normalized_data\n",
    "\n",
    "# Function to visualize the normalized data using a line plot\n",
    "def visualize_normalized_data(data):\n",
    "    # Normalize the data\n",
    "    normalized_data = normalize_data(data)\n",
    "    \n",
    "    # Create a line plot\n",
    "    plt.figure(figsize=(10, 6))\n",
    "    plt.plot(normalized_data, marker='o', linestyle='-', color='b', label='Normalized Data')\n",
    "    \n",
    "    # Add labels and title\n",
    "    plt.xlabel('Index')\n",
    "    plt.ylabel('Normalized Value')\n",
    "    plt.title('Line Plot of Normalized Data')\n",
    "    plt.grid(True)\n",
    "    plt.legend()\n",
    "    \n",
    "    # Show the plot\n",
    "    plt.show()\n",
    "\n",
    "# Example data\n",
    "data = [10, 20, 15, 25, 30, 35, 40, 50]\n",
    "\n",
    "# Visualize the normalized data\n",
    "visualize_normalized_data(data)\n"
   ]
  },
  {
   "cell_type": "markdown",
   "id": "23067cdf",
   "metadata": {},
   "source": [
    "# 23. Even or Odd:"
   ]
  },
  {
   "cell_type": "markdown",
   "id": "42d3271c",
   "metadata": {},
   "source": [
    "Write a Python program that takes an integer input from the user and prints whether the number is even or odd."
   ]
  },
  {
   "cell_type": "code",
   "execution_count": 19,
   "id": "dd29b919",
   "metadata": {},
   "outputs": [
    {
     "name": "stdout",
     "output_type": "stream",
     "text": [
      "93 is odd.\n"
     ]
    }
   ],
   "source": [
    "# Function to check if the number is even or odd\n",
    "def check_even_odd():\n",
    "    # Take input from the user\n",
    "    num = int(input(\"Enter an integer: \"))\n",
    "    \n",
    "    # Check if the number is even or odd\n",
    "    if num % 2 == 0:\n",
    "        print(f\"{num} is even.\")\n",
    "    else:\n",
    "        print(f\"{num} is odd.\")\n",
    "\n",
    "# Call the function\n",
    "check_even_odd()\n"
   ]
  },
  {
   "cell_type": "markdown",
   "id": "9a3dbdba",
   "metadata": {},
   "source": [
    "# 24. Grade Calculator:"
   ]
  },
  {
   "cell_type": "markdown",
   "id": "f35ad6e8",
   "metadata": {},
   "source": [
    "Write a Python program that takes a numerical grade (0-100) as input and prints the corresponding letter grade (A, B, C, D, F)."
   ]
  },
  {
   "cell_type": "code",
   "execution_count": 20,
   "id": "668b6ce4",
   "metadata": {},
   "outputs": [
    {
     "name": "stdout",
     "output_type": "stream",
     "text": [
      "Your letter grade is: D\n"
     ]
    }
   ],
   "source": [
    "# Function to determine the letter grade based on the numerical grade\n",
    "def determine_grade():\n",
    "    # Take input from the user\n",
    "    grade = float(input(\"Enter your numerical grade (0-100): \"))\n",
    "    \n",
    "    # Check if the grade is within the valid range\n",
    "    if grade < 0 or grade > 100:\n",
    "        print(\"Invalid grade. Please enter a grade between 0 and 100.\")\n",
    "        return\n",
    "    \n",
    "    # Determine the letter grade based on the numerical grade\n",
    "    if grade >= 90:\n",
    "        letter_grade = 'A'\n",
    "    elif grade >= 80:\n",
    "        letter_grade = 'B'\n",
    "    elif grade >= 70:\n",
    "        letter_grade = 'C'\n",
    "    elif grade >= 60:\n",
    "        letter_grade = 'D'\n",
    "    else:\n",
    "        letter_grade = 'F'\n",
    "    \n",
    "    # Print the letter grade\n",
    "    print(f\"Your letter grade is: {letter_grade}\")\n",
    "\n",
    "# Call the function\n",
    "determine_grade()\n"
   ]
  },
  {
   "cell_type": "markdown",
   "id": "ed4ebc23",
   "metadata": {},
   "source": [
    "# 25. Leap Year Checker:"
   ]
  },
  {
   "cell_type": "markdown",
   "id": "6d00b533",
   "metadata": {},
   "source": [
    "Write a Python program that takes a year as input and checks if it is a leap year."
   ]
  },
  {
   "cell_type": "code",
   "execution_count": 21,
   "id": "efb9f278",
   "metadata": {},
   "outputs": [
    {
     "name": "stdout",
     "output_type": "stream",
     "text": [
      "2020 is a leap year.\n"
     ]
    }
   ],
   "source": [
    "# Function to check if a year is a leap year\n",
    "def check_leap_year():\n",
    "    # Take input from the user\n",
    "    year = int(input(\"Enter a year: \"))\n",
    "    \n",
    "    # Check if the year is divisible by 4\n",
    "    if (year % 4 == 0 and year % 100 != 0) or (year % 400 == 0):\n",
    "        print(f\"{year} is a leap year.\")\n",
    "    else:\n",
    "        print(f\"{year} is not a leap year.\")\n",
    "\n",
    "# Call the function\n",
    "check_leap_year()\n"
   ]
  },
  {
   "cell_type": "markdown",
   "metadata": {},
   "source": []
  }
 ],
 "metadata": {
  "kernelspec": {
   "display_name": "base",
   "language": "python",
   "name": "python3"
  },
  "language_info": {
   "codemirror_mode": {
    "name": "ipython",
    "version": 3
   },
   "file_extension": ".py",
   "mimetype": "text/x-python",
   "name": "python",
   "nbconvert_exporter": "python",
   "pygments_lexer": "ipython3",
   "version": "3.12.4"
  }
 },
 "nbformat": 4,
 "nbformat_minor": 5
}
