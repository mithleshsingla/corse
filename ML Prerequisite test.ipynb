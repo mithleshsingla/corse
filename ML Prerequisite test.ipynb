{
 "cells": [
  {
   "cell_type": "markdown",
   "id": "58c4b006",
   "metadata": {},
   "source": [
    "Q1: How many multiplications and additions do you need to perform a matrix multiplication between a (n, k) and (k, m) matrix? Explain.\n"
   ]
  },
  {
   "cell_type": "markdown",
   "id": "d76b1585",
   "metadata": {},
   "source": [
    "ANSWER: Let A be our (n,k) matrix and B be our (k,m) matrix and suppose A and B multiply to give C such that C=A*\"B .so our C will be (n,m) matrix. To get any element C[i][j] we have to multiply ith row of A and jth column of B. As here there are k elements in any row and column of A and B respectively. therefore to compute one element of C we have to do k multipications and k-1 additions. As there are total n*\"m elements in C so total number of multiplication required is n.m.k and total number of addition required is n.m.k-1 ."
   ]
  },
  {
   "cell_type": "markdown",
   "id": "da969978",
   "metadata": {},
   "source": [
    "Q2: Write Python code to multiply the above two matrices. Solve using list of lists and then use numpy. Compare the timing of both solutions. Which one is faster? Why?"
   ]
  },
  {
   "cell_type": "code",
   "execution_count": 4,
   "id": "62e575f6",
   "metadata": {},
   "outputs": [],
   "source": [
    "A=[[1,2,3],[4,5,6]]\n",
    "B=[[1,2,3,4],[5,6,7,8],[9,0,1,2]]\n",
    "# here n=2,k=3,m=4"
   ]
  },
  {
   "cell_type": "code",
   "execution_count": 5,
   "id": "413feab8",
   "metadata": {},
   "outputs": [
    {
     "name": "stdout",
     "output_type": "stream",
     "text": [
      "time taken for multiply using list is 0.000997781753540039\n"
     ]
    }
   ],
   "source": [
    "import time\n",
    "start_time=time.time()\n",
    "n=len(A)\n",
    "k=len(B)\n",
    "m=len(B[0])\n",
    "C=[[0]*m for _ in range(n)]\n",
    "for i in range(n):\n",
    "    for j in range(m):\n",
    "        for a in range(k):\n",
    "            C[i][j]+=A[i][a]*B[a][j]           \n",
    "end_time=time.time()\n",
    "time_using_list=end_time-start_time\n",
    "print(\"time taken for multiply using list is\", time_using_list)\n",
    "            \n",
    "    "
   ]
  },
  {
   "cell_type": "code",
   "execution_count": 6,
   "id": "6277b55b",
   "metadata": {},
   "outputs": [
    {
     "name": "stdout",
     "output_type": "stream",
     "text": [
      "time taken for multiply using numpy is 0.0\n"
     ]
    }
   ],
   "source": [
    "import numpy as np\n",
    "start_time=time.time()\n",
    "A=np.array([[1,2,3],[4,5,6]])\n",
    "B=np.array([[1,2,3,4],[5,6,7,8],[9,0,1,2]])\n",
    "start_time=time.time()\n",
    "C=A@B\n",
    "end_time=time.time()\n",
    "time_using_numpy=end_time-start_time\n",
    "print(\"time taken for multiply using numpy is\", time_using_numpy)"
   ]
  },
  {
   "cell_type": "markdown",
   "id": "6d5f1a60",
   "metadata": {},
   "source": [
    "numpy is faster because here algorithms are written in c language."
   ]
  },
  {
   "cell_type": "markdown",
   "id": "304db8d9",
   "metadata": {},
   "source": [
    "Q3: Finding the highest element in a list requires one pass of the array. Finding the second highest element requires 2 passes of the the array. Using this method, what is the time complexity of finding the median of the array? Can you suggest a better method? Can you implement both these methods in Python and compare against numpy.median routine in terms of time?"
   ]
  },
  {
   "cell_type": "markdown",
   "id": "ae0f011e",
   "metadata": {},
   "source": [
    "TIME COMPLEXITY:\n",
    "As finding maximum element in list require 1 pass of array so if n is number of element in list then its median will be n//2(if n is odd) element of array, average of n/2 and n/2-1 (if n is even). so if we let our median be at k, then it requires k-1 passes of array. so time complexity will be T(n)=n+n-1+........n-k = n(k+1)-(k(k+1))/2\n",
    "in our case k is approx n/2 so put in equation T(n)=n(n/2+1)-(n/2(n/2+1))/2\n",
    "T(n)=n^2/2 + n -n^2/8 - n/4 = 3n^2/8 + 3n/4\n",
    "which is approximately O(n^2)\n",
    "better meathod to find median of an array can be quickselect. In this we take one pivot element and partition the array into 2 parts such that number less than pivot element is on one side and greater than on other. so we get new position of our pivot element. If pivot index matches the index required for our median position then we get our solution otherwise you hve to call the function again.  "
   ]
  },
  {
   "cell_type": "code",
   "execution_count": 19,
   "id": "d83b346b",
   "metadata": {},
   "outputs": [],
   "source": [
    "# 1st meathod\n",
    "def med1(arr):\n",
    "    def k_smallest(k,arr):\n",
    "        copy = arr.copy()\n",
    "        for i in range(k+1):\n",
    "            smallest = float('inf')\n",
    "            for num in copy:\n",
    "                if num < smallest:\n",
    "                    smallest = num\n",
    "            copy.remove(smallest)\n",
    "        return smallest\n",
    "    n=len(arr)\n",
    "    if n%2==1:\n",
    "        med=k_smallest(n//2,arr)\n",
    "    else:\n",
    "        med=(k_smallest(n/2,arr)+k_smallest((n/2)-1,arr))/2\n",
    "    return med    \n"
   ]
  },
  {
   "cell_type": "code",
   "execution_count": 31,
   "id": "e2fda470",
   "metadata": {},
   "outputs": [
    {
     "name": "stdout",
     "output_type": "stream",
     "text": [
      "94\n"
     ]
    }
   ],
   "source": [
    "# quickselect meathod\n",
    "def med2 (arr):\n",
    "    def par(small,large,arr):\n",
    "        pvt=arr[large]\n",
    "        i=small-1\n",
    "        for j in range(small,large):\n",
    "            if arr[j]<=pvt:\n",
    "                i+=1\n",
    "                arr[i],arr[j]=arr[j],arr[i]\n",
    "        arr[i+1],arr[large]=arr[large],arr[i+1]\n",
    "        return i+1\n",
    "    def quick(small,large,k,arr):\n",
    "        if small==large:\n",
    "            return arr[small]\n",
    "        pi= par(small,large,arr)\n",
    "        if pi==k:\n",
    "            return arr[k]\n",
    "        elif pi<k:\n",
    "            quick(pi+1,large,k,arr)\n",
    "        else:\n",
    "            quick(small,pi-1,k,arr)\n",
    "    n=len(arr)\n",
    "    if n%2==1:\n",
    "        med=quick(0,n-1,n//2,arr)\n",
    "    else:\n",
    "        med=(quick(0,n-1,n//2,arr)+quick(0,n-1,(n//2)-1,arr))/2\n",
    "    return med\n"
   ]
  },
  {
   "cell_type": "code",
   "execution_count": 33,
   "id": "4c39b2c5",
   "metadata": {},
   "outputs": [
    {
     "name": "stdout",
     "output_type": "stream",
     "text": [
      "94\n",
      "time taken for median using med1 is 0.0\n",
      "94\n",
      "time taken for median using med2 is 0.0\n",
      "94.0\n",
      "time taken for median using numpy is 0.000997781753540039\n"
     ]
    }
   ],
   "source": [
    "# for comparison\n",
    "arr=[214,45,874,65,2,8792,94]\n",
    "start_time=time.time()\n",
    "print(med1(arr))\n",
    "end_time=time.time()\n",
    "time_using_med1=end_time-start_time\n",
    "print(\"time taken for median using med1 is\", time_using_med1)\n",
    "\n",
    "start_time=time.time()\n",
    "print(med2(arr))\n",
    "end_time=time.time()\n",
    "time_using_med2=end_time-start_time\n",
    "print(\"time taken for median using med2 is\", time_using_med2)\n",
    "\n",
    "start_time=time.time()\n",
    "print(np.median(arr))\n",
    "end_time=time.time()\n",
    "time_using_np=end_time-start_time\n",
    "print(\"time taken for median using numpy is\", time_using_np)\n"
   ]
  },
  {
   "cell_type": "markdown",
   "id": "b9ec2654",
   "metadata": {},
   "source": [
    "time taken by numpy is least followed by meathod 2 then meathod 1.\n",
    "\n"
   ]
  },
  {
   "cell_type": "markdown",
   "id": "803ebc2c",
   "metadata": {},
   "source": [
    "Q4:What is the gradient of the following function with respect to x and y? <BR>\n",
    "    (x^2)y+ (y^3)sin(x)"
   ]
  },
  {
   "cell_type": "markdown",
   "id": "48b23092",
   "metadata": {},
   "source": [
    "f= (x^2)y+ (y^3)sin(x) <br>\n",
    "$$\\nabla$$f=($\\delta$f/$\\delta$x , $\\delta$f/$\\delta$y)<br> \n",
    "$\\delta$f/$\\delta$x=2xy+(y^3)cos(x)<br>\n",
    "$\\delta$f/$\\delta$y=(x^2) + 3(y^2)sin(x)<br>\n",
    "(2xy+(y^3)cos(x) , (x^2) + 3(y^2)sin(x))"
   ]
  },
  {
   "cell_type": "markdown",
   "id": "2d15bc70",
   "metadata": {},
   "source": [
    "Q5:Use JAX to confirm the gradient evaluated by your method matches the analytical solution corresponding to a few random values of x and y"
   ]
  },
  {
   "cell_type": "markdown",
   "id": "3efca67d",
   "metadata": {},
   "source": [
    "Analytical solution for few values:<br>\n",
    "Let (x,y)=(0,0) <br> so our $\\nabla$f=($\\delta$f/$\\delta$x , $\\delta$f/$\\delta$y)<br>\n",
    " $\\nabla$f=(0,0)<br>\n",
    " Let (x,y)=(1,2) <br> so our $\\nabla$f=($\\delta$f/$\\delta$x , $\\delta$f/$\\delta$y)<br>\n",
    " $\\nabla$f= ($ 2 \\cdot 1 \\cdot 2 $ + $ (2^3) \\cdot cos(1) $, $(1^2)$ +  $ 3 \\cdot 2^2 \\cdot sin(1) $)<br>\n",
    " $\\nabla$f=(8.322,11.098)\n",
    " Let (x,y)=(2,1) <br> so our $\\nabla$f=($\\delta$f/$\\delta$x , $\\delta$f/$\\delta$y)<br>\n",
    " $\\nabla$f= ($ 1 \\cdot 2 \\cdot 1 $ + $ (1^3) \\cdot cos(2) $, $(2^2)$ +  $ 3 \\cdot 1^2 \\cdot sin(2) $)<br>\n",
    " $\\nabla$f=(3.584, 6.728)"
   ]
  },
  {
   "cell_type": "code",
   "execution_count": 15,
   "id": "20315f5d",
   "metadata": {},
   "outputs": [
    {
     "name": "stdout",
     "output_type": "stream",
     "text": [
      "(Array(0., dtype=float32, weak_type=True), Array(0., dtype=float32, weak_type=True))\n",
      "(Array(8.322418, dtype=float32, weak_type=True), Array(11.0976515, dtype=float32, weak_type=True))\n",
      "(Array(3.5838532, dtype=float32, weak_type=True), Array(6.727892, dtype=float32, weak_type=True))\n"
     ]
    }
   ],
   "source": [
    "\n",
    "import jax\n",
    "import jax.numpy as jnp\n",
    "from jax import grad\n",
    "def f(x, y):\n",
    "    return (x**2)*y+(y**3)*jnp.sin(x)\n",
    "grad_x=grad(f,0)  \n",
    "grad_y=grad(f,1)\n",
    "points=[[0.0,0.0],[1.0,2.0],[2.0,1.0]]\n",
    "for x,y in points:\n",
    "    g_x = grad_x(x, y) \n",
    "    g_y = grad_y(x, y)\n",
    "    print((g_x,g_y))\n"
   ]
  },
  {
   "cell_type": "markdown",
   "id": "e087640f",
   "metadata": {},
   "source": [
    "Q6: Use sympy to confirm that you obtain the same gradient analytically."
   ]
  },
  {
   "cell_type": "code",
   "execution_count": 19,
   "id": "8445c7ad",
   "metadata": {},
   "outputs": [
    {
     "name": "stdout",
     "output_type": "stream",
     "text": [
      "Gradient of f at (x=0.0, y=0.0):0,0\n",
      "Gradient of f at (x=1.0, y=2.0):8.32241844694512,11.0976518176948\n",
      "Gradient of f at (x=2.0, y=1.0):3.58385316345286,6.72789228047704\n"
     ]
    }
   ],
   "source": [
    "import sympy as sp\n",
    "x,y=sp.symbols('x y')\n",
    "f= (x**2)*y+(y**3)*sp.sin(x)\n",
    "grad_f_x=sp.diff(f,x)\n",
    "grad_f_y=sp.diff(f,y)\n",
    "pts=[(0,0),(1,2),(2,1)]\n",
    "for x_,y_ in points:\n",
    "    grad_x_val= grad_f_x.evalf(subs={x:x_,y:y_})\n",
    "    grad_y_val= grad_f_y.evalf(subs={x:x_,y:y_})\n",
    "    print(f\"Gradient of f at (x={x_}, y={y_}):{grad_x_val},{grad_y_val}\")\n"
   ]
  },
  {
   "cell_type": "markdown",
   "id": "177641ef",
   "metadata": {},
   "source": [
    "Q7:Create a Python nested dictionary to represent hierarchical information. We want to store record of students and their marks. Something like:<br>\n",
    "1.2022<br>\n",
    "  &nbsp;&nbsp;1.Branch 1<br>\n",
    "   &nbsp;&nbsp;&nbsp;&nbsp; 1.Roll Number: 1, Name: N, Marks:<br>\n",
    "    &nbsp;&nbsp;&nbsp;&nbsp;&nbsp;&nbsp;  1.Maths: 100, English: 70 …<br>\n",
    "  &nbsp;&nbsp;2.Branch 2<br>\n",
    "2.2023<br>\n",
    "  &nbsp;&nbsp;1.Branch 1<br>\n",
    "  &nbsp;&nbsp;2.Branch 2<br>\n",
    "3.2024<br>\n",
    " &nbsp;&nbsp; 1.Branch 1<br>\n",
    " &nbsp;&nbsp; 2.Branch 2<br>\n",
    "4.2025<br>\n",
    "  &nbsp;&nbsp;1.Branch 1<br>\n",
    " &nbsp;&nbsp; 2.Branch 2<br>"
   ]
  },
  {
   "cell_type": "code",
   "execution_count": 6,
   "id": "2c599db2",
   "metadata": {},
   "outputs": [
    {
     "name": "stdout",
     "output_type": "stream",
     "text": [
      "{1: {2022: {1: {'Branch 1': {1: {'roll number': {'name': {'Mithlesh'}, 'marks': {1: {'maths': 100, 'english': 70}}}}}}, 2: {'Branch 2'}}}, 2: {2023: {1: {'Branch 1'}, 2: {'Branch 2'}}}, 3: {2024: {1: {'Branch 1'}, 2: {'Branch 2'}}}, 4: {2025: {1: {'Branch 1'}, 2: {'Branch 2'}}}}\n"
     ]
    }
   ],
   "source": [
    "student={1:{2022:{1:{\"Branch 1\":{1:{\"roll number\":{\"name\":{\"Mithlesh\"},\"marks\":{1:{\"Maths\":100,\"english\":70}}}}}},2:{\"Branch 2\"}}},2:{2023:{1:{\"Branch 1\"},2:{\"Branch 2\"}}},3:{2024:{1:{\"Branch 1\"},2:{\"Branch 2\"}}},4:{2025:{1:{\"Branch 1\"},2:{\"Branch 2\"}}}}\n",
    "print(student)"
   ]
  },
  {
   "cell_type": "markdown",
   "id": "0b6a53f1-2b10-4a5c-826d-c1c6cac71462",
   "metadata": {},
   "source": [
    "Q8: Store the same information using Python classes. We have an overall database which is a list of year objects. Each year contains a list of branches. Each branch contains a list of students. Each student has some properties like name, roll number and has marks in some subjects.\n",
    "\n"
   ]
  },
  {
   "cell_type": "code",
   "execution_count": 33,
   "id": "f91a5c41-47f5-462c-8dde-4fe0d7d30b67",
   "metadata": {},
   "outputs": [],
   "source": [
    "class database:\n",
    "    def __init__(self):\n",
    "        self.year=[]\n",
    "    def add_year(self, year):\n",
    "        self.year.append(year) \n",
    "class year:\n",
    "    def __init__(self, year):\n",
    "        self.year=year\n",
    "        self.branches=[]  \n",
    "    def add_branch(self, branch):\n",
    "        self.branches.append(branch)\n",
    "class Branch:\n",
    "    def __init__(self, name):\n",
    "        self.name=name\n",
    "        self.students=[]  \n",
    "    def add_student(self, student):\n",
    "        self.students.append(student)\n",
    "class Student:\n",
    "    def __init__(self, roll_number, name, marks):\n",
    "        self.roll_number=roll_number\n",
    "        self.name=name\n",
    "        self.marks=marks \n",
    "db = database()\n",
    "year_2022 =year(2022)\n",
    "branch_1_2022 = Branch('Branch 1')\n",
    "branch_2_2022 = Branch('Branch 2')\n",
    "student_1_2022_branch_1 = Student(1, 'Mithlesh', {'Maths':100,'English': 70})\n",
    "branch_1_2022.add_student(student_1_2022_branch_1)\n",
    "year_2022.add_branch(branch_1_2022)\n",
    "year_2022.add_branch(branch_2_2022)\n",
    "db.add_year(year_2022)\n",
    "year_2023 =year(2023)\n",
    "branch_1_2023 = Branch('Branch 1')\n",
    "branch_2_2023 = Branch('Branch 2')\n",
    "year_2023.add_branch(branch_1_2023)\n",
    "year_2023.add_branch(branch_2_2023)\n",
    "db.add_year(year_2023)\n",
    "year_2024=year(2024)\n",
    "branch_1_2024= Branch('Branch 1')\n",
    "branch_2_2024= Branch('Branch 2')\n",
    "year_2024.add_branch(branch_1_2024)\n",
    "year_2024.add_branch(branch_2_2024)\n",
    "db.add_year(year_2024)\n",
    "year_2025=year(2025)\n",
    "branch_1_2025= Branch('Branch 1')\n",
    "branch_2_2025= Branch('Branch 2')\n",
    "year_2025.add_branch(branch_1_2025)\n",
    "year_2025.add_branch(branch_2_2025)\n",
    "db.add_year(year_2025)\n"
   ]
  },
  {
   "cell_type": "markdown",
   "id": "2320dc5b-ecbb-496f-89f7-43e76c7ac452",
   "metadata": {},
   "source": [
    "Q9: Using matplotlib plot the following functions on the domain: x = 0.5 to 100.0 in steps of 0.5.<br>\n",
    "    1.y=x<br>\n",
    "    2.y=x^2<br>\n",
    "    3.y=x^3/100<br>\n",
    "    4.y=sin(x)<br>\n",
    "    5.y=sin(x)/x<br>\n",
    "    6.y=log(x)<br>\n",
    "    7.y=exp(x)\n",
    "\n",
    " \n",
    " \n"
   ]
  },
  {
   "cell_type": "code",
   "execution_count": 3,
   "id": "378806ba-ba9a-4aa3-90e8-36c8771d70a5",
   "metadata": {},
   "outputs": [
    {
     "data": {
      "image/png": "[encoded data removed]",
      "text/plain": [
       "<Figure size 640x480 with 7 Axes>"
      ]
     },
     "metadata": {},
     "output_type": "display_data"
    }
   ],
   "source": [
    "import numpy as np\n",
    "import matplotlib.pyplot as plt\n",
    "x=np.arange(0.5,100.0,0.5)\n",
    "y1=x\n",
    "y2=x**2\n",
    "y3=(x**3)/100\n",
    "y4=np.sin(x)\n",
    "y5=np.sin(x)/x\n",
    "y6=np.log(x)\n",
    "y7=np.exp(x)\n",
    "plt.subplot(3, 3, 1)\n",
    "plt.plot(x, y1, label='y=x')\n",
    "plt.title('y=x')\n",
    "plt.subplot(3, 3, 2)\n",
    "plt.plot(x, y2, label='y=x^2')\n",
    "plt.title('y=x^2')\n",
    "plt.subplot(3, 3, 3)\n",
    "plt.plot(x, y3, label='y=x^3/100')\n",
    "plt.title('y=x^3/100')\n",
    "plt.subplot(3, 3, 4)\n",
    "plt.plot(x, y4, label='y=sin(x)')\n",
    "plt.title('y=sin(x)')\n",
    "plt.subplot(3, 3, 5)\n",
    "plt.plot(x, y5, label='y=sin(x)/x')\n",
    "plt.title('y=sin(x)/x')\n",
    "plt.subplot(3, 3, 6)\n",
    "plt.plot(x, y6, label='y=log(x)')\n",
    "plt.title('y=log(x)')\n",
    "plt.subplot(3, 3, 7)\n",
    "plt.plot(x, y7, label='y=exp(x)')\n",
    "plt.title('y=exp(x)')\n",
    "plt.tight_layout()\n",
    "plt.show()"
   ]
  },
  {
   "cell_type": "markdown",
   "id": "e93cc4e9-004e-4385-ab79-f35f56404293",
   "metadata": {},
   "source": [
    "Q11: Using numpy generate a matrix of size 20X5 containing random numbers drawn uniformly from the range of 1 to 2. Using Pandas create a dataframe out of this matrix. Name the columns of the dataframe as “a”, “b”, “c”, “d”, “e”. Find the column with the highest standard deviation. Find the row with the lowest mean."
   ]
  },
  {
   "cell_type": "code",
   "execution_count": 40,
   "id": "d5680a65-aa1f-4ce4-8338-77808f30529a",
   "metadata": {},
   "outputs": [
    {
     "name": "stdout",
     "output_type": "stream",
     "text": [
      "a\n",
      "18\n"
     ]
    }
   ],
   "source": [
    "arr=np.random.uniform(1,2,100)\n",
    "array=np.reshape(arr,(20,5))\n",
    "import pandas as pd\n",
    "col=[\"a\",\"b\",\"c\",\"d\",\"e\"]\n",
    "df=pd.DataFrame(array,columns=col)\n",
    "sd=df.std()\n",
    "max_sd=sd.idxmax()\n",
    "print(max_sd)\n",
    "mean=df.mean(axis=1)\n",
    "min_mean=mean.idxmin()\n",
    "print(min_mean)"
   ]
  },
  {
   "cell_type": "markdown",
   "id": "d380a757-e03c-4e72-bfaf-468931ad93da",
   "metadata": {},
   "source": [
    "Q12: Add a new column to the dataframe called “f” which is the sum of the columns “a”, “b”, “c”, “d”, “e”. Create another column called “g”. The value in the column “g” should be “LT8” if the value in the column “f” is less than 8 and “GT8” otherwise. Find the number of rows in the dataframe where the value in the column “g” is “LT8”. Find the standard deviation of the column “f” for the rows where the value in the column “g” is “LT8” and “GT8” respectively."
   ]
  },
  {
   "cell_type": "code",
   "execution_count": 44,
   "id": "22238749-bb11-4bca-bc20-1dbbd8b7a78c",
   "metadata": {},
   "outputs": [
    {
     "name": "stdout",
     "output_type": "stream",
     "text": [
      "standard deviation of column f where value of g is'LT8' is 0.5591595510383169\n",
      "standard deviation of column f where value of g is'GT8' is 0.1776101222271561\n"
     ]
    }
   ],
   "source": [
    "df[\"f\"]=df.sum(axis=1)\n",
    "df[\"g\"]=np.where(df[\"f\"]<8,\"LT8\",\"GT8\")\n",
    "sd_LT8=df[df[\"g\"]==\"LT8\"][\"f\"].std()\n",
    "sd_GT8=df[df[\"g\"]==\"GT8\"][\"f\"].std()\n",
    "print(\"standard deviation of column f where value of g is'LT8' is\",sd_LT8)\n",
    "print(\"standard deviation of column f where value of g is'GT8' is\",sd_GT8) "
   ]
  },
  {
   "cell_type": "markdown",
   "id": "6bf68cb4-15f0-43d1-914b-1dc8d6ed032a",
   "metadata": {},
   "source": [
    "Q13:Write a small piece of code to explain broadcasting in numpy.\n",
    "\n"
   ]
  },
  {
   "cell_type": "code",
   "execution_count": 71,
   "id": "1bc3b698-b9cc-4823-98f7-bbe7311ddabe",
   "metadata": {},
   "outputs": [
    {
     "name": "stdout",
     "output_type": "stream",
     "text": [
      "[[-0.54495936  1.70478725  1.29555917]\n",
      " [-0.5318611  -2.81165789  0.94248664]\n",
      " [ 2.26965539  3.18223934  0.05376035]]\n",
      "[[ 0.81846235]\n",
      " [-0.80034412]\n",
      " [ 1.83521836]]\n",
      "[[-1.36342171  0.88632489  0.47709682]\n",
      " [ 0.26848302 -2.01131378  1.74283076]\n",
      " [ 0.43443703  1.34702098 -1.78145801]]\n"
     ]
    }
   ],
   "source": [
    "import numpy as np\n",
    "ar=np.random.normal(0,2,9)\n",
    "ar1=ar.reshape((3,3))\n",
    "print(ar1)\n",
    "mean=ar1.mean(axis=1)\n",
    "mean=mean.reshape((3,1))\n",
    "print(mean)\n",
    "narr=ar1-mean\n",
    "print(narr)"
   ]
  },
  {
   "cell_type": "markdown",
   "id": "ccb129fc-c5a7-43e7-a16d-42232a80a04b",
   "metadata": {},
   "source": [
    "in this code we have use the concept of broadcastinf in numpy. we generate a 3*3 matrix and then calculate the mean along its rows. then we subtract its mean from the respective row. here that one column of mean broadcast over all other columns in a matrix, as it subtract from each enteries in a row."
   ]
  },
  {
   "cell_type": "markdown",
   "id": "6651dbfb-5b4d-4ced-9470-011354498d14",
   "metadata": {},
   "source": [
    "Q13: Write a function to compute the argmin of a numpy array. The function should take a numpy array as input and return the index of the minimum element. You can use the np.argmin function to verify your solution."
   ]
  },
  {
   "cell_type": "code",
   "execution_count": 87,
   "id": "e110b926-ab28-4c81-9f64-fbf90b0c2577",
   "metadata": {},
   "outputs": [
    {
     "name": "stdout",
     "output_type": "stream",
     "text": [
      "solution using function 4\n",
      "solution using numpy 4\n"
     ]
    }
   ],
   "source": [
    "def fun(arr):\n",
    "    if len(arr)==0:\n",
    "        return \"enter a valid array\"\n",
    "    else:\n",
    "        i=0\n",
    "        min=arr[0]\n",
    "        for j in range(len(arr)):\n",
    "            if min>arr[j]:\n",
    "                min=arr[j]\n",
    "                i=j\n",
    "        return i\n",
    "ar=[23,46,654,45,2,7,863,36,78]\n",
    "min=fun(ar)\n",
    "print(\"solution using function\",min)\n",
    "print(\"solution using numpy\",np.argmin(ar))"
   ]
  },
  {
   "cell_type": "code",
   "execution_count": null,
   "id": "bfcc94f3-306f-478c-83a4-b0a4ad930ab3",
   "metadata": {},
   "outputs": [],
   "source": []
  }
 ],
 "metadata": {
  "kernelspec": {
   "display_name": "Python 3 (ipykernel)",
   "language": "python",
   "name": "python3"
  },
  "language_info": {
   "codemirror_mode": {
    "name": "ipython",
    "version": 3
   },
   "file_extension": ".py",
   "mimetype": "text/x-python",
   "name": "python",
   "nbconvert_exporter": "python",
   "pygments_lexer": "ipython3",
   "version": "3.12.4"
  }
 },
 "nbformat": 4,
 "nbformat_minor": 5
}
